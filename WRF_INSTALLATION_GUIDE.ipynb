{
 "cells": [
  {
   "cell_type": "markdown",
   "metadata": {},
   "source": [
    "# WRF Installation "
   ]
  },
  {
   "cell_type": "markdown",
   "metadata": {},
   "source": [
    "Here we will talk about how to install WRF, the general problems faced and how to solve them. Further a simple run in WRF will also be shown.  \n",
    "\n",
    "For installing WRF first we need to :\n",
    "\n",
    "- Test for system compatibility.\n",
    "- Building Libraries\n",
    "- Library Compatibility Tests\n",
    "- Building WRF\n",
    "- Building WPS\n",
    "\n",
    "You can follow this beautiful link that lays out a guideline we will follow here for installing WRF in **bash scripting**.\n",
    "\n",
    "http://metclim.ucd.ie/2017/06/wrf-installation-on-a-linux-machine/"
   ]
  },
  {
   "cell_type": "markdown",
   "metadata": {},
   "source": [
    "**1. Testing System Compatibility**"
   ]
  },
  {
   "cell_type": "markdown",
   "metadata": {},
   "source": [
    "Ensure if we have the necessary fortran and C++ compiler which are needed to execute the code within the model."
   ]
  },
  {
   "cell_type": "code",
   "execution_count": null,
   "metadata": {
    "collapsed": true
   },
   "outputs": [],
   "source": [
    "subham@subham-desktop:~$ which gfortran\n",
    "/usr/bin/gfortran\n",
    "subham@subham-desktop:~$ which cpp\n",
    "/usr/bin/cpp\n",
    "subham@subham-desktop:~$ which gcc\n",
    "/usr/bin/gcc\n"
   ]
  },
  {
   "cell_type": "markdown",
   "metadata": {},
   "source": [
    "Lets check for the versions right now. Check if you have a version 4.4.0 or above.  Output should look something like this :"
   ]
  },
  {
   "cell_type": "code",
   "execution_count": null,
   "metadata": {
    "collapsed": true
   },
   "outputs": [],
   "source": [
    "subham@subham-desktop:~$ gfortran --version\n",
    "GNU Fortran (Ubuntu 5.4.0-6ubuntu1~16.04.4) 5.4.0 20160609\n",
    "Copyright (C) 2015 Free Software Foundation, Inc.\n",
    "\n",
    "GNU Fortran comes with NO WARRANTY, to the extent permitted by law.\n",
    "You may redistribute copies of GNU Fortran\n",
    "under the terms of the GNU General Public License.\n",
    "For more information about these matters, see the file named COPYING\n",
    "\n",
    "subham@subham-desktop:~$ cpp --version\n",
    "cpp (Ubuntu 5.4.0-6ubuntu1~16.04.4) 5.4.0 20160609\n",
    "Copyright (C) 2015 Free Software Foundation, Inc.\n",
    "This is free software; see the source for copying conditions.  There is NO\n",
    "warranty; not even for MERCHANTABILITY or FITNESS FOR A PARTICULAR PURPOSE.\n",
    "\n",
    "subham@subham-desktop:~$ gcc --version\n",
    "gcc (Ubuntu 5.4.0-6ubuntu1~16.04.4) 5.4.0 20160609\n",
    "Copyright (C) 2015 Free Software Foundation, Inc.\n",
    "This is free software; see the source for copying conditions.  There is NO\n",
    "warranty; not even for MERCHANTABILITY or FITNESS FOR A PARTICULAR PURPOSE."
   ]
  },
  {
   "cell_type": "markdown",
   "metadata": {},
   "source": [
    "Now lets see if the compilers are operating correctly or not. To do this we run some tests. Before that create two directories \"WRF\" and \"TESTS\" (within directory \"WRF\")."
   ]
  },
  {
   "cell_type": "code",
   "execution_count": null,
   "metadata": {
    "collapsed": true
   },
   "outputs": [],
   "source": [
    "subham@subham-desktop:~$ mkdir WRF\n",
    "subham@subham-desktop:~$ cd WRF \n",
    "subham@subham-desktop:~/WRF$ mkdir TESTS"
   ]
  },
  {
   "cell_type": "markdown",
   "metadata": {},
   "source": [
    "Lets download the Test files from http://metclim.ucd.ie/2017/06/wrf-installation-on-a-linux-machine/ in TESTS folder\n",
    "and unpack it using."
   ]
  },
  {
   "cell_type": "code",
   "execution_count": null,
   "metadata": {
    "collapsed": true
   },
   "outputs": [],
   "source": [
    "tar -xf Fortran_C_tests.tar "
   ]
  },
  {
   "cell_type": "markdown",
   "metadata": {},
   "source": [
    "![title](t1.png)"
   ]
  },
  {
   "cell_type": "markdown",
   "metadata": {},
   "source": [
    "![title](t2.png)"
   ]
  },
  {
   "cell_type": "markdown",
   "metadata": {},
   "source": [
    "![title](t3.png)"
   ]
  },
  {
   "cell_type": "markdown",
   "metadata": {},
   "source": [
    "## Building Libraries"
   ]
  },
  {
   "cell_type": "markdown",
   "metadata": {},
   "source": [
    "![title](t4.png)"
   ]
  },
  {
   "cell_type": "markdown",
   "metadata": {},
   "source": [
    "- **Lets build NETCDF-4.1.3.** "
   ]
  },
  {
   "cell_type": "markdown",
   "metadata": {},
   "source": [
    "Move to libraries directory and ensure the following in bash scripting:"
   ]
  },
  {
   "cell_type": "code",
   "execution_count": null,
   "metadata": {
    "collapsed": true
   },
   "outputs": [],
   "source": [
    "tar -xzvf netcdf-4.1.3.tar.gz\n",
    "cd netcdf-4.1.3\n",
    "./configure --prefix=/home/subham/WRF/libraries/netcdf --disable-dap --disable-netcdf-4 --disable-shared\n",
    "make\n",
    "make check\n",
    "make install "
   ]
  },
  {
   "cell_type": "markdown",
   "metadata": {},
   "source": [
    "Now export the path in bashrc "
   ]
  },
  {
   "cell_type": "code",
   "execution_count": null,
   "metadata": {
    "collapsed": true
   },
   "outputs": [],
   "source": [
    "gedit ~/.bashrc\n",
    "export PATH=/home/subham/WRF/libraries/netcdf/bin:$PATH\n",
    "export NETCDF=/home/subham/WRF/libraries/netcdf\n",
    "source ~/.bashrc"
   ]
  },
  {
   "cell_type": "markdown",
   "metadata": {},
   "source": [
    "- **Lets build MPICH.** "
   ]
  },
  {
   "cell_type": "code",
   "execution_count": null,
   "metadata": {
    "collapsed": true
   },
   "outputs": [],
   "source": [
    "tar -xzvf mpich-3.0.4.tar.gz \n",
    "cd mpich-3.0.4\n",
    "./configure --prefix=/home/subham/WRF/libraries/mpich\n",
    "make \n",
    "make check \n",
    "make install"
   ]
  },
  {
   "cell_type": "markdown",
   "metadata": {},
   "source": [
    "Now similarly export the path in bashrc. "
   ]
  },
  {
   "cell_type": "code",
   "execution_count": null,
   "metadata": {
    "collapsed": true
   },
   "outputs": [],
   "source": [
    "gedit ~/.bashrc\n",
    "export PATH=/home/subham/WRF/libraries/mpich/bin:$PATH\n",
    "source ~/.bashrc"
   ]
  },
  {
   "cell_type": "markdown",
   "metadata": {},
   "source": [
    "- **Time for zlib.** "
   ]
  },
  {
   "cell_type": "markdown",
   "metadata": {},
   "source": [
    "Open bashrc and export the following paths. "
   ]
  },
  {
   "cell_type": "code",
   "execution_count": null,
   "metadata": {
    "collapsed": true
   },
   "outputs": [],
   "source": [
    "gedit ~/.bashrc\n",
    "export LDFLAGS=\"-L/home/subham/WRF/libraries/grib2/lib\"\n",
    "export CPPFLAGS=\"-I/home/subham/WRF/libraries/grib2/include\"\n",
    "source ~/.bashrc\n"
   ]
  },
  {
   "cell_type": "markdown",
   "metadata": {},
   "source": [
    "Unzip zlib, go to zlib directory, configure and install. "
   ]
  },
  {
   "cell_type": "code",
   "execution_count": null,
   "metadata": {
    "collapsed": true
   },
   "outputs": [],
   "source": [
    "tar -xvzf zlib-1.2.7.tar.gz \n",
    "cd zlib-1.2.7\n",
    "./configure --prefix=/home/subham/WRF/libraries/grib2\n",
    "make\n",
    "make install"
   ]
  },
  {
   "cell_type": "markdown",
   "metadata": {},
   "source": [
    "- **Time for libpng.** "
   ]
  },
  {
   "cell_type": "code",
   "execution_count": null,
   "metadata": {
    "collapsed": true
   },
   "outputs": [],
   "source": [
    "tar -xvzf libpng-1.2.50.tar.gz \n",
    "cd libpng-1.2.50\n",
    "./configure --prefix=/home/subham/WRF/libraries/grib2\n",
    "make\n",
    "make install"
   ]
  },
  {
   "cell_type": "markdown",
   "metadata": {},
   "source": [
    "- **Install Jasper** "
   ]
  },
  {
   "cell_type": "code",
   "execution_count": null,
   "metadata": {
    "collapsed": true
   },
   "outputs": [],
   "source": [
    "tar xzvf jasper-1.900.1.tar.gz\n",
    "cd jasper-1.900.1\n",
    "./configure --prefix=/home/subham/WRF/libraries/grib2\n",
    "make\n",
    "make install"
   ]
  },
  {
   "cell_type": "markdown",
   "metadata": {},
   "source": [
    "$\\textbf{Open the bashrc and your bashrc should look something like this :}$"
   ]
  },
  {
   "cell_type": "markdown",
   "metadata": {},
   "source": [
    "![title](t5.png)"
   ]
  },
  {
   "cell_type": "markdown",
   "metadata": {},
   "source": [
    "# Library Compatibility Tests"
   ]
  },
  {
   "cell_type": "markdown",
   "metadata": {},
   "source": [
    "Having installed our libraries, lets look at their compatibility with each other. For this we need to download a tar file as given in the link. http://metclim.ucd.ie/2017/06/wrf-installation-on-a-linux-machine/, unpack it and run the following. "
   ]
  },
  {
   "cell_type": "markdown",
   "metadata": {},
   "source": [
    "![title](t6.png)"
   ]
  },
  {
   "cell_type": "markdown",
   "metadata": {},
   "source": [
    "![title](t7.png)"
   ]
  },
  {
   "cell_type": "markdown",
   "metadata": {},
   "source": [
    "# Build WRF. "
   ]
  },
  {
   "cell_type": "markdown",
   "metadata": {},
   "source": [
    "Voila now its done ! Lets build WRF then. Get started with installing WRF 3.8 after downloading tar file from http://www2.mmm.ucar.edu/wrf/users/download/get_sources.html. Unzip and go to WRFV3 directory and configure. "
   ]
  },
  {
   "cell_type": "code",
   "execution_count": null,
   "metadata": {
    "collapsed": true
   },
   "outputs": [],
   "source": [
    "gunzip WRFV3.8.TAR.gz \n",
    "tar -xf WRFV3.8.TAR \n",
    "cd WRFV3"
   ]
  },
  {
   "cell_type": "code",
   "execution_count": null,
   "metadata": {
    "collapsed": true
   },
   "outputs": [],
   "source": [
    "./configure "
   ]
  },
  {
   "cell_type": "markdown",
   "metadata": {},
   "source": [
    "At this point you will be presented with a number of configuration options for WRF, regarding your type of compiler and whether you wish to run WRF serially or in parallel. It is quite likely that option “34” will be the most suitable, though it is worth checking that this is the case first. "
   ]
  },
  {
   "cell_type": "code",
   "execution_count": null,
   "metadata": {
    "collapsed": true
   },
   "outputs": [],
   "source": [
    "Compile for nesting? (1=basic, 2=preset moves, 3=vortex following) [default 1]: \n",
    "1"
   ]
  },
  {
   "cell_type": "markdown",
   "metadata": {},
   "source": [
    "Type ./compile and number of choices will come, select em_real."
   ]
  },
  {
   "cell_type": "code",
   "execution_count": null,
   "metadata": {
    "collapsed": true
   },
   "outputs": [],
   "source": [
    "./compile em_real >& log.compile"
   ]
  },
  {
   "cell_type": "markdown",
   "metadata": {},
   "source": [
    "Now this will take some time depending on your processor speed but at the end it must show 4 files in a real case --    wrf.exe, real.exe ,ndown.exe, tc.exe in the main subdirectory - as a litmus test for successful compilation of WRF3. "
   ]
  },
  {
   "cell_type": "markdown",
   "metadata": {},
   "source": [
    "![title](t8.png)"
   ]
  },
  {
   "cell_type": "markdown",
   "metadata": {},
   "source": [
    "# Building WPS"
   ]
  },
  {
   "cell_type": "markdown",
   "metadata": {},
   "source": [
    "There we have our WRF ready. Now we can build the WPS in same manner. "
   ]
  },
  {
   "cell_type": "code",
   "execution_count": null,
   "metadata": {
    "collapsed": true
   },
   "outputs": [],
   "source": [
    "gunzip WPSV3.8.TAR.gz \n",
    "tar -xf WPSV3.8.TAR \n",
    "cd WPS\n"
   ]
  },
  {
   "cell_type": "code",
   "execution_count": null,
   "metadata": {
    "collapsed": true
   },
   "outputs": [],
   "source": [
    "./configure "
   ]
  },
  {
   "cell_type": "code",
   "execution_count": null,
   "metadata": {
    "collapsed": true
   },
   "outputs": [],
   "source": [
    "./compile >& log.compile"
   ]
  },
  {
   "cell_type": "markdown",
   "metadata": {},
   "source": [
    "A successful compilation of WPS will show the three metgrid files - **geogrid.exe**, **metgrid.exe**, **ungrib.exe**"
   ]
  },
  {
   "cell_type": "markdown",
   "metadata": {},
   "source": [
    "![title](t9.png)"
   ]
  },
  {
   "cell_type": "markdown",
   "metadata": {
    "collapsed": true
   },
   "source": [
    "# Installing NCL- NCAR Graphics."
   ]
  },
  {
   "cell_type": "markdown",
   "metadata": {},
   "source": [
    "Make a directory in root. "
   ]
  },
  {
   "cell_type": "code",
   "execution_count": null,
   "metadata": {
    "collapsed": true
   },
   "outputs": [],
   "source": [
    "root@subham-desktop:/home/subham  cd /usr/local\n",
    "root@subham-desktop:/usr/local mkdir ncl-6.4.0"
   ]
  },
  {
   "cell_type": "markdown",
   "metadata": {},
   "source": [
    "Download the tar.gz file of NCL from https://www.earthsystemgrid.org/dataset/ncl.640.dap/file.html. Unzip and extract it in ncl-6-4.0 folder. "
   ]
  },
  {
   "cell_type": "code",
   "execution_count": null,
   "metadata": {
    "collapsed": true
   },
   "outputs": [],
   "source": [
    "root@subham-desktop:/usr/local tar -zxf /home/subham/Downloads/ncl_ncarg-6.4.0-Debian8.6_64bit_gnu492.tar.gz -C /usr/local/ncl-6.4.0"
   ]
  },
  {
   "cell_type": "markdown",
   "metadata": {},
   "source": [
    "Once this is done assign the path in bashrc. "
   ]
  },
  {
   "cell_type": "code",
   "execution_count": null,
   "metadata": {
    "collapsed": true
   },
   "outputs": [],
   "source": [
    "export NCARG_ROOT=/usr/local/ncl-6.4.0\n",
    "export PATH=$NCARG_ROOT/bin:$PATH"
   ]
  },
  {
   "cell_type": "markdown",
   "metadata": {},
   "source": [
    "Type ncl in terminal and if its succesful it should show a message like this. "
   ]
  },
  {
   "cell_type": "markdown",
   "metadata": {},
   "source": [
    "![title](t10.png)"
   ]
  }
 ],
 "metadata": {
  "kernelspec": {
   "display_name": "Python 3",
   "language": "python",
   "name": "python3"
  },
  "language_info": {
   "codemirror_mode": {
    "name": "ipython",
    "version": 3
   },
   "file_extension": ".py",
   "mimetype": "text/x-python",
   "name": "python",
   "nbconvert_exporter": "python",
   "pygments_lexer": "ipython3",
   "version": "3.6.3"
  }
 },
 "nbformat": 4,
 "nbformat_minor": 2
}
